{
 "cells": [
  {
   "cell_type": "code",
   "execution_count": null,
   "id": "initial_id",
   "metadata": {
    "collapsed": true
   },
   "outputs": [],
   "source": [
    "from sklearn.model_selection import GridSearchCV, train_test_split\n",
    "import numpy as np\n",
    "import matplotlib.pyplot as plt\n",
    "import pandas as pd\n",
    "# Đọc dữ liệu\n",
    "data = pd.read_csv('C:\\ML_Data\\Dataset_Vietnam\\Yen Bai.csv', parse_dates=['date'])\n",
    "data.set_index('date', inplace=True)\n",
    "data = data.sort_index()\n",
    "\n",
    "# Tạo biến đầu vào (X) và biến mục tiêu (y)\n",
    "X = data[['cloud', 'max', 'rain']]\n",
    "y = data['humidi']\n",
    "\n",
    "# Chia dữ liệu thành tập huấn luyện và kiểm tra\n",
    "X_train, X_test, y_train, y_test = train_test_split(X, y, test_size=0.2, random_state=42)\n",
    "\n",
    "# Gán lại index cho y_test để đảm bảo chỉ số đúng\n",
    "y_test = pd.Series(y_test, index=X_test.index)"
   ]
  },
  {
   "metadata": {},
   "cell_type": "code",
   "outputs": [],
   "execution_count": null,
   "source": [
    "from sklearn.linear_model import LinearRegression\n",
    "from sklearn.preprocessing import PolynomialFeatures\n",
    "from sklearn.pipeline import Pipeline\n",
    "from sklearn.model_selection import GridSearchCV\n",
    "from sklearn.metrics import mean_absolute_error, mean_squared_error\n",
    "# Tạo pipeline với Polynomial Features và Linear Regression\n",
    "pipeline = Pipeline([\n",
    "    ('poly', PolynomialFeatures()),\n",
    "    ('lr', LinearRegression())\n",
    "])\n",
    "\n",
    "# Định nghĩa tham số cần tìm kiếm\n",
    "param_grid = {\n",
    "    'poly__degree': [1, 2, 3, 4],  # Độ bậc đa thức\n",
    "    'lr__fit_intercept': [True, False]\n",
    "}\n",
    "\n",
    "# Grid Search\n",
    "grid_search = GridSearchCV(estimator=pipeline, param_grid=param_grid, cv=3, scoring='neg_mean_squared_error', verbose=2, n_jobs=-1)\n",
    "grid_search.fit(X_train, y_train)\n",
    "\n",
    "# In ra tham số tốt nhất\n",
    "best_params = grid_search.best_params_\n",
    "print(\"Best Parameters for Linear Regression:\", best_params)\n",
    "\n",
    "# Dự đoán với mô hình tốt nhất\n",
    "best_lr = grid_search.best_estimator_\n",
    "y_pred = best_lr.predict(X_test)\n",
    "\n",
    "# Đánh giá mô hình\n",
    "mae = mean_absolute_error(y_test, y_pred)\n",
    "rmse = mean_squared_error(y_test, y_pred, squared=False)\n",
    "print(f\"Mean Absolute Error (MAE): {mae:.2f}\")\n",
    "print(f\"Root Mean Squared Error (RMSE): {rmse:.2f}\")\n",
    "# Chọn khoảng thời gian hiển thị\n",
    "start_date = y_test.index[-30]  # 30 ngày cuối trong tập kiểm tra\n",
    "end_date = y_test.index[-1]\n",
    "\n",
    "# Lọc dữ liệu cho khoảng thời gian này\n",
    "y_test_filtered = y_test.loc[start_date:end_date]\n",
    "y_pred_filtered = pd.Series(y_pred, index=y_test.index).loc[start_date:end_date]\n",
    "\n",
    "# Vẽ biểu đồ\n",
    "plt.figure(figsize=(12, 6))\n",
    "plt.plot(y_test_filtered.index, y_test_filtered, label='Giá trị thực tế', color='blue', linewidth=2)\n",
    "plt.plot(y_pred_filtered.index, y_pred_filtered, label='Giá trị dự đoán', color='red', linestyle='--', linewidth=2)\n",
    "plt.title(f'So sánh giá trị thực tế và dự đoán ({start_date.date()} đến {end_date.date()})', fontsize=16)\n",
    "plt.xlabel('Ngày', fontsize=12)\n",
    "plt.ylabel('Độ ẩm (Humidity)', fontsize=12)\n",
    "plt.legend(fontsize=12)\n",
    "plt.xticks(rotation=45)\n",
    "plt.tight_layout()\n",
    "plt.show()"
   ],
   "id": "8e65817ad286426f"
  }
 ],
 "metadata": {
  "kernelspec": {
   "display_name": "Python 3",
   "language": "python",
   "name": "python3"
  },
  "language_info": {
   "codemirror_mode": {
    "name": "ipython",
    "version": 2
   },
   "file_extension": ".py",
   "mimetype": "text/x-python",
   "name": "python",
   "nbconvert_exporter": "python",
   "pygments_lexer": "ipython2",
   "version": "2.7.6"
  }
 },
 "nbformat": 4,
 "nbformat_minor": 5
}
